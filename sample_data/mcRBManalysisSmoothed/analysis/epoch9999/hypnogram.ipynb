{
 "cells": [
  {
   "cell_type": "code",
   "execution_count": 1,
   "id": "390b8c57-d896-4326-82e3-12c2de6c5c52",
   "metadata": {},
   "outputs": [],
   "source": [
    "import pandas as pd\n",
    "import numpy as np\n",
    "import matplotlib.pyplot as plt\n",
    "from scipy.stats import mode\n",
    "from scipy.io import loadmat"
   ]
  },
  {
   "cell_type": "code",
   "execution_count": 2,
   "id": "0631df27-6870-4492-9e5f-18c21c0abe44",
   "metadata": {
    "tags": []
   },
   "outputs": [
    {
     "data": {
      "text/plain": [
       "NpzFile 'latentStates.npz' with keys: probabilities, binary, inferredStates, uniqueStates"
      ]
     },
     "execution_count": 2,
     "metadata": {},
     "output_type": "execute_result"
    }
   ],
   "source": [
    "latent_states = np.load('latentStates.npz'); latent_states"
   ]
  },
  {
   "cell_type": "code",
   "execution_count": 3,
   "id": "411873cb-3a8c-4f04-974f-5c5813262767",
   "metadata": {
    "tags": []
   },
   "outputs": [
    {
     "data": {
      "text/plain": [
       "(3072, 21)"
      ]
     },
     "execution_count": 3,
     "metadata": {},
     "output_type": "execute_result"
    }
   ],
   "source": [
    "latent_states['probabilities'].shape"
   ]
  },
  {
   "cell_type": "code",
   "execution_count": 4,
   "id": "7ee874ce-e9e2-4e86-add5-a5b08dee62e2",
   "metadata": {
    "tags": []
   },
   "outputs": [
    {
     "data": {
      "text/plain": [
       "(3072, 21)"
      ]
     },
     "execution_count": 4,
     "metadata": {},
     "output_type": "execute_result"
    }
   ],
   "source": [
    "latent_states['binary'].shape"
   ]
  },
  {
   "cell_type": "code",
   "execution_count": 5,
   "id": "e24434bf-54e9-4740-beb8-715ab5e32014",
   "metadata": {
    "tags": []
   },
   "outputs": [],
   "source": [
    "inferredStates = latent_states['inferredStates']"
   ]
  },
  {
   "cell_type": "code",
   "execution_count": 6,
   "id": "2d2077ad-6748-4073-bc69-63c390d663aa",
   "metadata": {
    "tags": []
   },
   "outputs": [],
   "source": [
    "uniqueStates = latent_states['uniqueStates']"
   ]
  },
  {
   "cell_type": "code",
   "execution_count": 7,
   "id": "01362387-0392-4f57-a50b-d8b576bd543d",
   "metadata": {
    "tags": []
   },
   "outputs": [],
   "source": [
    "manualStates = inferredStates[:, 1]\n",
    "latentStates = inferredStates[:, 0]\n",
    "nLS = uniqueStates.shape[0]\n",
    "\n",
    "LS = [f\"LS-{i+1}\" for i in range(nLS)]\n",
    "\n",
    "hypnogram = plt.figure(figsize=(10, 12), dpi=100, tight_layout=True)\n",
    "plt.subplot(2, 1, 1)\n",
    "plt.title('Hypnogram')\n",
    "plt.plot(manualStates)\n",
    "\n",
    "plt.subplot(2, 1, 2)\n",
    "plt.plot(latentStates)\n",
    "plt.ylim([0.8, nLS + 0.2])\n",
    "plt.yticks(range(1, nLS + 1), LS)\n",
    "# Adjust y-axis ticks and labels\n",
    "plt.subplots_adjust(hspace=0.5)  # Increase vertical space between subplots\n",
    "# Save the plot\n",
    "plt.savefig('hypnogram.png')\n",
    "plt.close()"
   ]
  },
  {
   "cell_type": "code",
   "execution_count": 24,
   "id": "1ea06e59-8384-4fd2-a439-b1cf2bfbc48a",
   "metadata": {},
   "outputs": [
    {
     "data": {
      "image/png": "[encoded data removed]",
      "text/plain": [
       "<Figure size 864x576 with 1 Axes>"
      ]
     },
     "metadata": {
      "needs_background": "light"
     },
     "output_type": "display_data"
    },
    {
     "data": {
      "text/plain": [
       "<Figure size 432x288 with 0 Axes>"
      ]
     },
     "metadata": {},
     "output_type": "display_data"
    }
   ],
   "source": [
    "plt.figure(figsize=(12, 8))\n",
    "plt.hist(latentStates, bins=int(latentStates.max()), edgecolor='black', density=True)\n",
    "\n",
    "plt.title('Frequency of Latent States')\n",
    "plt.xlabel('Latent States')\n",
    "plt.ylabel('Frequency')\n",
    "plt.grid(axis='y', alpha=0.75)\n",
    "\n",
    "plt.show()\n",
    "plt.savefig('latentStateFrequency.png')           "
   ]
  },
  {
   "cell_type": "code",
   "execution_count": null,
   "id": "6ca48269-1ab8-4155-b2e5-3c413a3d6cab",
   "metadata": {},
   "outputs": [],
   "source": []
  }
 ],
 "metadata": {
  "kernelspec": {
   "display_name": "sleep-scoring-venv",
   "language": "python",
   "name": "sleep-scoring-venv"
  },
  "language_info": {
   "codemirror_mode": {
    "name": "ipython",
    "version": 3
   },
   "file_extension": ".py",
   "mimetype": "text/x-python",
   "name": "python",
   "nbconvert_exporter": "python",
   "pygments_lexer": "ipython3",
   "version": "3.10.4"
  }
 },
 "nbformat": 4,
 "nbformat_minor": 5
}
