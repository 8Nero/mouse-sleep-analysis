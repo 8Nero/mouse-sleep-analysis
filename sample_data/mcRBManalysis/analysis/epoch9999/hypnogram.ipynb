{
 "cells": [
  {
   "cell_type": "code",
   "execution_count": 1,
   "id": "390b8c57-d896-4326-82e3-12c2de6c5c52",
   "metadata": {},
   "outputs": [],
   "source": [
    "import pandas as pd\n",
    "import numpy as np\n",
    "import matplotlib.pyplot as plt\n",
    "from scipy.stats import mode"
   ]
  },
  {
   "cell_type": "code",
   "execution_count": 2,
   "id": "0631df27-6870-4492-9e5f-18c21c0abe44",
   "metadata": {
    "tags": []
   },
   "outputs": [
    {
     "data": {
      "text/plain": [
       "NpzFile 'latentStates.npz' with keys: probabilities, binary"
      ]
     },
     "execution_count": 2,
     "metadata": {},
     "output_type": "execute_result"
    }
   ],
   "source": [
    "latent_states = np.load('latentStates.npz'); latent_states"
   ]
  },
  {
   "cell_type": "code",
   "execution_count": 3,
   "id": "411873cb-3a8c-4f04-974f-5c5813262767",
   "metadata": {
    "tags": []
   },
   "outputs": [
    {
     "data": {
      "text/plain": [
       "(3072, 21)"
      ]
     },
     "execution_count": 3,
     "metadata": {},
     "output_type": "execute_result"
    }
   ],
   "source": [
    "latent_states['probabilities'].shape"
   ]
  },
  {
   "cell_type": "code",
   "execution_count": 4,
   "id": "7ee874ce-e9e2-4e86-add5-a5b08dee62e2",
   "metadata": {
    "tags": []
   },
   "outputs": [
    {
     "data": {
      "text/plain": [
       "(3072, 21)"
      ]
     },
     "execution_count": 4,
     "metadata": {},
     "output_type": "execute_result"
    }
   ],
   "source": [
    "latent_states['binary'].shape"
   ]
  },
  {
   "cell_type": "code",
   "execution_count": 5,
   "id": "e24434bf-54e9-4740-beb8-715ab5e32014",
   "metadata": {
    "tags": []
   },
   "outputs": [
    {
     "data": {
      "text/plain": [
       "array([[8.8029718e-01, 8.8031632e-01, 8.8374889e-01, 8.8370180e-01,\n",
       "        8.8412666e-01, 8.8408363e-01, 8.8389468e-01, 8.8030624e-01,\n",
       "        8.8404262e-01, 8.8421845e-01, 8.8020128e-01, 9.5938498e-01,\n",
       "        9.9870825e-01, 1.2053878e-04, 9.9323612e-01, 9.9975961e-01,\n",
       "        9.9274361e-01, 5.0546927e-08, 9.8132920e-01, 9.5655930e-01,\n",
       "        9.9865675e-01]], dtype=float32)"
      ]
     },
     "execution_count": 5,
     "metadata": {},
     "output_type": "execute_result"
    }
   ],
   "source": [
    "latent_states['probabilities'][:1]"
   ]
  },
  {
   "cell_type": "code",
   "execution_count": 12,
   "id": "bc31746f-f292-47b6-b650-b0dadd6af00e",
   "metadata": {
    "tags": []
   },
   "outputs": [
    {
     "data": {
      "text/plain": [
       "array([[1, 1, 1, 1, 1, 1, 1, 1, 1, 1, 1, 0, 1, 1, 1, 1, 0, 1, 0, 0, 1],\n",
       "       [1, 1, 1, 1, 1, 1, 1, 1, 1, 1, 1, 1, 1, 1, 1, 1, 0, 1, 0, 1, 1],\n",
       "       [1, 1, 1, 1, 1, 1, 1, 1, 1, 1, 1, 1, 1, 1, 1, 1, 0, 1, 0, 1, 1],\n",
       "       [1, 1, 1, 1, 1, 1, 1, 1, 1, 1, 1, 1, 1, 1, 1, 1, 0, 1, 0, 1, 1],\n",
       "       [1, 1, 1, 1, 1, 1, 1, 1, 1, 1, 1, 1, 1, 1, 1, 1, 0, 1, 0, 1, 1],\n",
       "       [1, 1, 1, 1, 1, 1, 1, 1, 1, 1, 1, 0, 1, 1, 1, 1, 0, 1, 0, 0, 1],\n",
       "       [1, 1, 1, 1, 1, 1, 1, 1, 1, 1, 1, 1, 1, 1, 1, 1, 0, 1, 0, 1, 1],\n",
       "       [1, 1, 1, 1, 1, 1, 1, 1, 1, 1, 1, 1, 1, 1, 1, 1, 0, 1, 0, 1, 1],\n",
       "       [1, 1, 1, 1, 1, 1, 1, 1, 1, 1, 1, 1, 1, 1, 1, 1, 0, 1, 0, 1, 1],\n",
       "       [1, 1, 1, 1, 1, 1, 1, 1, 1, 1, 1, 1, 1, 1, 1, 1, 0, 1, 0, 1, 1]])"
      ]
     },
     "execution_count": 12,
     "metadata": {},
     "output_type": "execute_result"
    }
   ],
   "source": [
    "latent_states['binary'][1100:1110]"
   ]
  },
  {
   "cell_type": "code",
   "execution_count": null,
   "id": "a2223e67-dba2-447b-b099-85c672dec57f",
   "metadata": {
    "tags": []
   },
   "outputs": [],
   "source": [
    "# Generate synthetic sleep stage data (1: Wake, 2: NREM, 3: REM)\n",
    "sleep_stages = np.random.choice([1, 2, 3], size=300)\n",
    "\n",
    "# Create time vector (in minutes)\n",
    "time_minutes = np.arange(len(sleep_stages)) * 30 / 60\n",
    "\n",
    "# Plotting the hypnogram\n",
    "plt.figure(figsize=(10, 5))\n",
    "plt.step(time_minutes, sleep_stages, where='mid', color='blue', linewidth=2)\n",
    "plt.xlabel('Time (hours)')\n",
    "plt.ylabel('Sleep Stage')\n",
    "plt.title('Synthetic Hypnogram')\n",
    "plt.yticks([1, 2, 3], ['Wake', 'NREM', 'REM'])\n",
    "plt.grid(True)\n",
    "plt.tight_layout()\n",
    "plt.show()"
   ]
  },
  {
   "cell_type": "raw",
   "id": "c80c58a8-8176-4a3b-aaa2-d71949fef9fb",
   "metadata": {},
   "source": [
    "score_labels = {1: 'Wake', 3: 'NREM', 4: 'Intermediate', 5: 'REM'}\n",
    "num_labels = {label: num for num, label in enumerate(score_labels.values(), start=1)}\n",
    "sleep_scoring_ = sleep_scoring[:10533]\n",
    "sleep_scoring_ = np.array(sleep_scoring_)\n",
    "reshaped_scores = sleep_scoring_.reshape(-1, 3)\n",
    "majority_scores = mode(reshaped_scores, axis=1).mode.flatten()\n",
    "assert all(score in score_labels for score in majority_scores), \"Some scores are not in score_labels\"\n",
    "mapped_scores = np.array([num_labels[score_labels[score]] for score in majority_scores])\n",
    "time_minutes = np.arange(0, len(slopes_smoothed_HPC)) * 3 / 60  # Convert to minutes\n",
    "sleep_time_minutes = np.arange(0, len(majority_scores)) * 3 / 60  # Convert to minutes\n",
    "plt.figure(figsize=(20, 10))\n",
    "\n",
    "# First subplot - Smoothed Slopes\n",
    "plt.subplot(2, 1, 1)\n",
    "plt.plot(time_minutes, slopes_smoothed_HPC, marker='o', linestyle='-', color='blue', label='Smoothed Slopes')\n",
    "plt.title(\"Smoothed Slope of Aperiodic Signal Component Over Time (HPC) - 1-100 Hz\")\n",
    "plt.xlabel(\"Time (minutes)\")\n",
    "plt.ylabel(\"Smoothed Slope\")\n",
    "plt.grid(True)\n",
    "plt.legend()\n",
    "\n",
    "# Second subplot - Sleep Scoring\n",
    "plt.subplot(2, 1, 2)\n",
    "plt.step(sleep_time_minutes, mapped_scores, where='mid')\n",
    "plt.xlabel('Time (minutes)')\n",
    "plt.ylabel('Sleep Stage')\n",
    "plt.title('Majority Voting Sleep Stages Over Time')\n",
    "plt.yticks(list(num_labels.values()), list(score_labels.values()))  # Setting y-ticks to stage labels\n",
    "plt.xticks(np.arange(0, max(sleep_time_minutes) + 1, 5))  # Marking every 5 minutes\n",
    "plt.grid(True)\n",
    "plt.tight_layout()\n",
    "plt.show()"
   ]
  }
 ],
 "metadata": {
  "kernelspec": {
   "display_name": "sleep-scoring-venv",
   "language": "python",
   "name": "sleep-scoring-venv"
  },
  "language_info": {
   "codemirror_mode": {
    "name": "ipython",
    "version": 3
   },
   "file_extension": ".py",
   "mimetype": "text/x-python",
   "name": "python",
   "nbconvert_exporter": "python",
   "pygments_lexer": "ipython3",
   "version": "3.10.4"
  }
 },
 "nbformat": 4,
 "nbformat_minor": 5
}
