{
 "cells": [
  {
   "cell_type": "code",
   "execution_count": 1,
   "id": "5b2e30e2-1064-43e3-9e25-7ae3615c990b",
   "metadata": {
    "tags": []
   },
   "outputs": [],
   "source": [
    "BASE_DIR=\"/home/mouse-sleep-analysis/sample_data/mcRBManalysis/\"\n",
    "modelName=\"ws_fac11_cov11_mean10.mat\""
   ]
  },
  {
   "cell_type": "code",
   "execution_count": 2,
   "id": "93214221-9e89-4e27-814a-83e4f7b1eff7",
   "metadata": {
    "tags": []
   },
   "outputs": [
    {
     "name": "stdout",
     "output_type": "stream",
     "text": [
      "Initialization...\n",
      "self.refDir: /home/mouse-sleep-analysis/sample_data/mcRBManalysis/\n",
      "self.expDoneFlag: True\n",
      "finalModel: .mat\n",
      "self.model: ws_fac11_cov11_mean10\n",
      "Loading data...\n",
      "Analysing experiment :  /home/mouse-sleep-analysis/sample_data/mcRBManalysis\n",
      "Computing latent states...\n",
      "logisticArg_c min :  1.9921924\n",
      "logisticArg_c max :  2.0171797\n",
      "logisticArg_c mean :  2.0073147\n",
      "True\n",
      "logisticArg_m min :  -31.076265\n",
      "logisticArg_m max :  17.985136\n",
      "logisticArg_m mean :  1.1542817\n",
      "True\n",
      "/home/mouse-sleep-analysis/infer_states.py:41: DeprecationWarning: Conversion of an array with ndim > 0 to a scalar is deprecated, and will error in future. Ensure you extract a single element from your array before performing this operation. (Deprecated NumPy 1.25.)\n",
      "  if not os.path.isdir('epoch%d' % self.epochID):\n",
      "/home/mouse-sleep-analysis/infer_states.py:42: DeprecationWarning: Conversion of an array with ndim > 0 to a scalar is deprecated, and will error in future. Ensure you extract a single element from your array before performing this operation. (Deprecated NumPy 1.25.)\n",
      "  os.makedirs('epoch%d' % self.epochID)\n",
      "/home/mouse-sleep-analysis/infer_states.py:44: DeprecationWarning: Conversion of an array with ndim > 0 to a scalar is deprecated, and will error in future. Ensure you extract a single element from your array before performing this operation. (Deprecated NumPy 1.25.)\n",
      "  os.chdir('epoch%d' % self.epochID)\n",
      "Storing in... /home/mouse-sleep-analysis/sample_data/mcRBManalysis/analysis/epoch9999\n",
      "/home/mouse-sleep-analysis/infer_states.py:53: DeprecationWarning: Conversion of an array with ndim > 0 to a scalar is deprecated, and will error in future. Ensure you extract a single element from your array before performing this operation. (Deprecated NumPy 1.25.)\n",
      "  image.save('./hcActivation/%i.png' % self.epochID)\n",
      "/home/mouse-sleep-analysis/infer_states.py:56: DeprecationWarning: Conversion of an array with ndim > 0 to a scalar is deprecated, and will error in future. Ensure you extract a single element from your array before performing this operation. (Deprecated NumPy 1.25.)\n",
      "  image.save('./hmActivation/%i.png' % self.epochID)\n",
      "Computing the unique binary latent states...\n",
      "The number of the unique latent activations is : 20\n",
      "Checking if there are hidden_units that are always off..\n",
      "The sum of the unique latent activations' columns is :  [20 20 20 20 20 20 20 20 20 20 20 14 10 19  3 19 10 11  0 19  7]\n"
     ]
    }
   ],
   "source": [
    "!python3 infer_states.py -f {BASE_DIR} -done \"True\" -m ${modelName}"
   ]
  },
  {
   "cell_type": "code",
   "execution_count": null,
   "id": "5dc5780e-8d12-40f4-a51e-e2253780ebaf",
   "metadata": {},
   "outputs": [],
   "source": []
  }
 ],
 "metadata": {
  "kernelspec": {
   "display_name": "Python 3 (ipykernel)",
   "language": "python",
   "name": "python3"
  },
  "language_info": {
   "codemirror_mode": {
    "name": "ipython",
    "version": 3
   },
   "file_extension": ".py",
   "mimetype": "text/x-python",
   "name": "python",
   "nbconvert_exporter": "python",
   "pygments_lexer": "ipython3",
   "version": "3.10.13"
  }
 },
 "nbformat": 4,
 "nbformat_minor": 5
}
