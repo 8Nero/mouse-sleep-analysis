{
 "cells": [
  {
   "cell_type": "code",
   "execution_count": 1,
   "id": "5b2e30e2-1064-43e3-9e25-7ae3615c990b",
   "metadata": {
    "tags": []
   },
   "outputs": [],
   "source": [
    "BASE_DIR=\"/Users/peace/Workspace/mouse-sleep-analysis/sample_data/mcRBManalysisSmoothed/\"\n",
    "modelName=\"ws_fac11_cov11_mean10.mat\""
   ]
  },
  {
   "cell_type": "code",
   "execution_count": 2,
   "id": "93214221-9e89-4e27-814a-83e4f7b1eff7",
   "metadata": {
    "tags": []
   },
   "outputs": [
    {
     "name": "stdout",
     "output_type": "stream",
     "text": [
      "Initialization...\n",
      "finalModel: .mat\n",
      "Loading data...\n",
      "Analysing experiment :  /Users/peace/Workspace/mouse-sleep-analysis/sample_data/mcRBManalysisSmoothed\n",
      "Computing latent states...\n",
      "logisticArg_c min :  1.9687679\n",
      "logisticArg_c max :  2.0471706\n",
      "logisticArg_c mean :  2.011786\n",
      "True\n",
      "logisticArg_m min :  -21.68127\n",
      "logisticArg_m max :  14.321242\n",
      "logisticArg_m mean :  2.9428062\n",
      "True\n",
      "Storing in... /Users/peace/Workspace/mouse-sleep-analysis/sample_data/mcRBManalysisSmoothed/analysis/epoch9999\n",
      "Computing the unique binary latent states...\n",
      "The number of the unique latent activations is : 34\n",
      "Checking if there are hidden_units that are always off..\n",
      "The sum of the unique latent activations' columns is :  [34 34 34 34 34 34 34 34 34 34 34 18 32 17 26 32 15 22  7 17 28]\n"
     ]
    }
   ],
   "source": [
    "!python3 infer_states.py -f {BASE_DIR} -done \"True\" -m ${modelName}"
   ]
  },
  {
   "cell_type": "code",
   "execution_count": null,
   "id": "5dc5780e-8d12-40f4-a51e-e2253780ebaf",
   "metadata": {},
   "outputs": [],
   "source": []
  }
 ],
 "metadata": {
  "kernelspec": {
   "display_name": "Python 3 (ipykernel)",
   "language": "python",
   "name": "python3"
  },
  "language_info": {
   "codemirror_mode": {
    "name": "ipython",
    "version": 3
   },
   "file_extension": ".py",
   "mimetype": "text/x-python",
   "name": "python",
   "nbconvert_exporter": "python",
   "pygments_lexer": "ipython3",
   "version": "3.11.4"
  }
 },
 "nbformat": 4,
 "nbformat_minor": 5
}
