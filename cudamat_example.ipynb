{
 "cells": [
  {
   "cell_type": "code",
   "execution_count": 1,
   "id": "4d46bd15-a85c-4a9d-a9d0-d7b99acd24a6",
   "metadata": {
    "tags": []
   },
   "outputs": [
    {
     "name": "stdout",
     "output_type": "stream",
     "text": [
      "[[2160.9563 2047.3635 2033.9434 2060.7114 1980.9727 1843.8688 2080.708\n",
      "  2032.343  2023.6997 1996.011  1965.2854 1990.2639 2027.6598 2091.56\n",
      "  1894.5999 1871.8212 2095.759  1914.3177 2027.1421 2025.7266 2116.326\n",
      "  1946.421  2015.1532 1900.9247 2120.0635 2084.0186 1965.0815 2029.3939\n",
      "  2038.0361 2065.581  2089.0618 1877.8274]]\n"
     ]
    }
   ],
   "source": [
    "import numpy as np\n",
    "import cudamat as cm\n",
    "\n",
    "cm.cublas_init()\n",
    "\n",
    "# create two random matrices and copy them to the GPU\n",
    "a = cm.CUDAMatrix(np.random.rand(32, 256))\n",
    "b = cm.CUDAMatrix(np.random.rand(256, 32))\n",
    "\n",
    "# perform calculations on the GPU\n",
    "c = cm.dot(a, b)\n",
    "d = c.sum(axis = 0)\n",
    "\n",
    "# copy d back to the host (CPU) and print\n",
    "print(d.asarray())"
   ]
  },
  {
   "cell_type": "code",
   "execution_count": null,
   "id": "2baeadc4-8216-415b-9e01-a97ffba7737a",
   "metadata": {},
   "outputs": [],
   "source": []
  }
 ],
 "metadata": {
  "kernelspec": {
   "display_name": "Python 3 (ipykernel)",
   "language": "python",
   "name": "python3"
  },
  "language_info": {
   "codemirror_mode": {
    "name": "ipython",
    "version": 3
   },
   "file_extension": ".py",
   "mimetype": "text/x-python",
   "name": "python",
   "nbconvert_exporter": "python",
   "pygments_lexer": "ipython3",
   "version": "3.10.13"
  }
 },
 "nbformat": 4,
 "nbformat_minor": 5
}
