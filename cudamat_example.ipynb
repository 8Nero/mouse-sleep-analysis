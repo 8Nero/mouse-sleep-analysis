{
 "cells": [
  {
   "cell_type": "code",
   "execution_count": 1,
   "id": "4d46bd15-a85c-4a9d-a9d0-d7b99acd24a6",
   "metadata": {
    "tags": []
   },
   "outputs": [
    {
     "name": "stdout",
     "output_type": "stream",
     "text": [
      "[[1978.7144 2052.2722 2021.216  2104.2302 2114.9607 2060.3225 2132.3184\n",
      "  2067.882  2019.7773 1938.1289 2030.1146 2150.0232 2107.6394 2063.8362\n",
      "  2102.6292 1967.66   2011.8923 2102.3796 2098.8123 2060.7402 1992.1207\n",
      "  2022.8702 2018.5996 2019.0933 2000.753  2203.6165 2027.269  2031.0608\n",
      "  2007.791  2191.7153 2037.6555 2070.996 ]]\n"
     ]
    }
   ],
   "source": [
    "import numpy as np\n",
    "import cudamat as cm\n",
    "\n",
    "cm.cublas_init()\n",
    "\n",
    "# create two random matrices and copy them to the GPU\n",
    "a = cm.CUDAMatrix(np.random.rand(32, 256))\n",
    "b = cm.CUDAMatrix(np.random.rand(256, 32))\n",
    "\n",
    "# perform calculations on the GPU\n",
    "c = cm.dot(a, b)\n",
    "d = c.sum(axis = 0)\n",
    "\n",
    "# copy d back to the host (CPU) and print\n",
    "print(d.asarray())"
   ]
  },
  {
   "cell_type": "code",
   "execution_count": null,
   "id": "2baeadc4-8216-415b-9e01-a97ffba7737a",
   "metadata": {},
   "outputs": [],
   "source": []
  }
 ],
 "metadata": {
  "kernelspec": {
   "display_name": "Python 3 (ipykernel)",
   "language": "python",
   "name": "python3"
  },
  "language_info": {
   "codemirror_mode": {
    "name": "ipython",
    "version": 3
   },
   "file_extension": ".py",
   "mimetype": "text/x-python",
   "name": "python",
   "nbconvert_exporter": "python",
   "pygments_lexer": "ipython3",
   "version": "3.10.13"
  }
 },
 "nbformat": 4,
 "nbformat_minor": 5
}
