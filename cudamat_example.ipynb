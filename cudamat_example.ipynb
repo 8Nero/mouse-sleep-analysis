{
 "cells": [
  {
   "cell_type": "code",
   "execution_count": 1,
   "id": "4d46bd15-a85c-4a9d-a9d0-d7b99acd24a6",
   "metadata": {},
   "outputs": [
    {
     "name": "stdout",
     "output_type": "stream",
     "text": [
      "[[2056.7063 2174.9673 1936.4735 2087.4048 2167.0425 2183.524  2075.0537\n",
      "  2129.0967 2049.6062 2120.6057 2052.7893 2012.8947 2091.5708 2015.7749\n",
      "  1955.1896 2041.0519 2035.6438 2004.704  2064.5603 1965.302  2080.2234\n",
      "  2171.557  2073.002  2113.6282 2122.342  2158.2422 2058.8198 2149.7866\n",
      "  2022.6616 1958.759  2075.2092 1981.7191]]\n"
     ]
    }
   ],
   "source": [
    "import numpy as np\n",
    "import cudamat as cm\n",
    "\n",
    "cm.cublas_init()\n",
    "\n",
    "# create two random matrices and copy them to the GPU\n",
    "a = cm.CUDAMatrix(np.random.rand(32, 256))\n",
    "b = cm.CUDAMatrix(np.random.rand(256, 32))\n",
    "\n",
    "# perform calculations on the GPU\n",
    "c = cm.dot(a, b)\n",
    "d = c.sum(axis = 0)\n",
    "\n",
    "# copy d back to the host (CPU) and print\n",
    "print(d.asarray())"
   ]
  },
  {
   "cell_type": "code",
   "execution_count": null,
   "id": "8d99e867-a6fe-43dd-99ea-458929030146",
   "metadata": {},
   "outputs": [],
   "source": []
  }
 ],
 "metadata": {
  "kernelspec": {
   "display_name": "Python 3 (ipykernel)",
   "language": "python",
   "name": "python3"
  },
  "language_info": {
   "codemirror_mode": {
    "name": "ipython",
    "version": 3
   },
   "file_extension": ".py",
   "mimetype": "text/x-python",
   "name": "python",
   "nbconvert_exporter": "python",
   "pygments_lexer": "ipython3",
   "version": "3.9.16"
  }
 },
 "nbformat": 4,
 "nbformat_minor": 5
}
