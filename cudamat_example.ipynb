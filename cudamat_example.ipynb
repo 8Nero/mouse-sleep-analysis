{
 "cells": [
  {
   "cell_type": "code",
   "execution_count": 1,
   "id": "4d46bd15-a85c-4a9d-a9d0-d7b99acd24a6",
   "metadata": {
    "tags": []
   },
   "outputs": [
    {
     "name": "stdout",
     "output_type": "stream",
     "text": [
      "[[2134.975  2169.3445 2033.3411 2004.4827 2203.631  2094.2646 1974.6171\n",
      "  1978.4078 1966.4548 2025.589  1943.8552 2149.309  2001.1587 1882.4081\n",
      "  2178.5293 1898.6573 1975.0475 2085.8833 2024.4362 2105.447  2032.3043\n",
      "  2007.9807 2064.107  2058.3398 2185.9214 2003.6893 2095.5938 1974.2115\n",
      "  1961.4647 1999.7065 2001.5127 2081.0198]]\n"
     ]
    }
   ],
   "source": [
    "import numpy as np\n",
    "import cudamat as cm\n",
    "\n",
    "cm.cublas_init()\n",
    "\n",
    "# create two random matrices and copy them to the GPU\n",
    "a = cm.CUDAMatrix(np.random.rand(32, 256))\n",
    "b = cm.CUDAMatrix(np.random.rand(256, 32))\n",
    "\n",
    "# perform calculations on the GPU\n",
    "c = cm.dot(a, b)\n",
    "d = c.sum(axis = 0)\n",
    "\n",
    "# copy d back to the host (CPU) and print\n",
    "print(d.asarray())"
   ]
  },
  {
   "cell_type": "code",
   "execution_count": null,
   "id": "2baeadc4-8216-415b-9e01-a97ffba7737a",
   "metadata": {},
   "outputs": [],
   "source": []
  }
 ],
 "metadata": {
  "kernelspec": {
   "display_name": "Python 3 (ipykernel)",
   "language": "python",
   "name": "python3"
  },
  "language_info": {
   "codemirror_mode": {
    "name": "ipython",
    "version": 3
   },
   "file_extension": ".py",
   "mimetype": "text/x-python",
   "name": "python",
   "nbconvert_exporter": "python",
   "pygments_lexer": "ipython3",
   "version": "3.10.13"
  }
 },
 "nbformat": 4,
 "nbformat_minor": 5
}
